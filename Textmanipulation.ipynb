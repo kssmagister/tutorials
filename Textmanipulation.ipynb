{
  "nbformat": 4,
  "nbformat_minor": 0,
  "metadata": {
    "colab": {
      "name": "Textmanipulation.ipynb",
      "provenance": [],
      "collapsed_sections": [],
      "toc_visible": true,
      "authorship_tag": "ABX9TyMybMY/7IX1WaamFEAxVD3M",
      "include_colab_link": true
    },
    "kernelspec": {
      "name": "python3",
      "display_name": "Python 3"
    },
    "language_info": {
      "name": "python"
    }
  },
  "cells": [
    {
      "cell_type": "markdown",
      "metadata": {
        "id": "view-in-github",
        "colab_type": "text"
      },
      "source": [
        "<a href=\"https://colab.research.google.com/github/kssmagister/tutorials/blob/master/Textmanipulation.ipynb\" target=\"_parent\"><img src=\"https://colab.research.google.com/assets/colab-badge.svg\" alt=\"Open In Colab\"/></a>"
      ]
    },
    {
      "cell_type": "code",
      "metadata": {
        "id": "IJPc_wr5DYRz"
      },
      "source": [
        "import re"
      ],
      "execution_count": null,
      "outputs": []
    },
    {
      "cell_type": "code",
      "metadata": {
        "id": "Q5XXZwM5Dbpa"
      },
      "source": [
        "input = \"victori\""
      ],
      "execution_count": null,
      "outputs": []
    },
    {
      "cell_type": "code",
      "metadata": {
        "colab": {
          "base_uri": "https://localhost:8080/"
        },
        "id": "RmVpa8r3DoHu",
        "outputId": "00b2a60c-3046-49a8-da54-ccd60287a789"
      },
      "source": [
        "resultat = \"Wie lautet der Gen.Sg. von \" + input + \"a\" + \"?\" + \"\\n\" + input +\"ae\"\n",
        "print(resultat)\n"
      ],
      "execution_count": null,
      "outputs": [
        {
          "output_type": "stream",
          "text": [
            "Wie lautet der Gen.Sg. von victoria?\n",
            "victoriae\n"
          ],
          "name": "stdout"
        }
      ]
    },
    {
      "cell_type": "markdown",
      "metadata": {
        "id": "0jqs8R_wzHdJ"
      },
      "source": [
        "# Funktion ADekl()\n",
        "Diese Funktion erstellt moodle-Kurzantwortfragen im gift-Format."
      ]
    },
    {
      "cell_type": "code",
      "metadata": {
        "id": "q_xMA54Vdi6d"
      },
      "source": [
        "# Open a file and assign it to the variable 'file'\n",
        "file = open(file='a-dekl.txt', mode='r', encoding='utf-8')\n",
        "# Use the read() method to read the file context and assign the\n",
        "# result to the variable 'text'\n",
        "text = file.read()"
      ],
      "execution_count": 13,
      "outputs": []
    },
    {
      "cell_type": "code",
      "metadata": {
        "colab": {
          "base_uri": "https://localhost:8080/"
        },
        "id": "vATOc3M_fmox",
        "outputId": "05206d5a-05cb-4f3d-e64e-6eb22cf641a2"
      },
      "source": [
        "print(text)"
      ],
      "execution_count": 7,
      "outputs": [
        {
          "output_type": "stream",
          "text": [
            "::voc_1a_NS:: Nom.Sg. von voc_1a: {=voc_1a}\n",
            "\n",
            "::voc_1a_GS:: Gen.Sg. von voc_1a: {=voc_1ae}\n",
            "\n",
            "::voc_1a_DS:: Dat.Sg. von voc_1a: {=voc_1ae}\n",
            "\n",
            "::voc_1a_AS:: Akk.Sg. von voc_1a: {=voc_1am}\n",
            "\n",
            "::voc_1a_AblS:: Abl.Sg. von voc_1a: {=voc_1a}\n",
            "\n",
            "::voc_1a_NP:: Nom.Pl. von voc_1a: {=voc_1ae}\n",
            "\n",
            "::voc_1a_GP:: Gen.Pl. von voc_1a: {=voc_1arum}\n",
            "\n",
            "::voc_1a_DP:: Dat.Pl. von voc_1a: {=voc_1is}\n",
            "\n",
            "::voc_1a_AP:: Akk.Pl. von voc_1a: {=voc_1as}\n",
            "\n",
            "::voc_1a_AblP:: Abl.Pl. von voc_1a: {=voc_1is}\n",
            "\n"
          ],
          "name": "stdout"
        }
      ]
    },
    {
      "cell_type": "code",
      "metadata": {
        "colab": {
          "base_uri": "https://localhost:8080/"
        },
        "id": "O-jE-8gXgfmu",
        "outputId": "6e70fbcf-81e5-4791-9e41-c979a2b7e4ce"
      },
      "source": [
        "# Replace three whitespaces with a line break and three white spaces\n",
        "# Store the result under the same variable 'processed_text'\n",
        "filename = \"femina\"\n",
        "text = text.replace(\"voc_1\", \"femin\")\n",
        "print(text)"
      ],
      "execution_count": 14,
      "outputs": [
        {
          "output_type": "stream",
          "text": [
            "::femina_NS:: Nom.Sg. von femina: {=femina}\n",
            "\n",
            "::femina_GS:: Gen.Sg. von femina: {=feminae}\n",
            "\n",
            "::femina_DS:: Dat.Sg. von femina: {=feminae}\n",
            "\n",
            "::femina_AS:: Akk.Sg. von femina: {=feminam}\n",
            "\n",
            "::femina_AblS:: Abl.Sg. von femina: {=femina}\n",
            "\n",
            "::femina_NP:: Nom.Pl. von femina: {=feminae}\n",
            "\n",
            "::femina_GP:: Gen.Pl. von femina: {=feminarum}\n",
            "\n",
            "::femina_DP:: Dat.Pl. von femina: {=feminis}\n",
            "\n",
            "::femina_AP:: Akk.Pl. von femina: {=feminas}\n",
            "\n",
            "::femina_AblP:: Abl.Pl. von femina: {=feminis}\n",
            "\n"
          ],
          "name": "stdout"
        }
      ]
    },
    {
      "cell_type": "code",
      "metadata": {
        "id": "b59rwLJWhKxl"
      },
      "source": [
        "file = open(\"mdl_\" + filename + \".txt\", \"w\")\n",
        "file.write(text)\n",
        "file.close()\n"
      ],
      "execution_count": 15,
      "outputs": []
    },
    {
      "cell_type": "code",
      "metadata": {
        "id": "09ZVm-MFvUsl"
      },
      "source": [
        "def ADekl (vocabulum):\n",
        "  text2 = text.replace(\"voc_1\", vocabulum)\n",
        "  file = open(\"mdl_\" + vocabulum + \"a.txt\", \"w\")\n",
        "  file.write(text2)\n",
        "  file.close()\n",
        "  print(\"Fertig!\")"
      ],
      "execution_count": 23,
      "outputs": []
    },
    {
      "cell_type": "code",
      "metadata": {
        "colab": {
          "base_uri": "https://localhost:8080/"
        },
        "id": "NlvYtaDswfGt",
        "outputId": "8c192a76-7ea2-4e4c-a070-a93b92df35a2"
      },
      "source": [
        "# Open a file and assign it to the variable 'file'\n",
        "file = open(file='a-dekl.txt', mode='r', encoding='utf-8')\n",
        "# Use the read() method to read the file context and assign the\n",
        "# result to the variable 'text'\n",
        "text = file.read()\n",
        "\n",
        "ADekl(\"vacc\")"
      ],
      "execution_count": 24,
      "outputs": [
        {
          "output_type": "stream",
          "text": [
            "Fertig!\n"
          ],
          "name": "stdout"
        }
      ]
    },
    {
      "cell_type": "markdown",
      "metadata": {
        "id": "cOyzrvBV1uBd"
      },
      "source": [
        "# Funktione konsDekl()\n",
        "\n",
        "Template: https://www.dropbox.com/s/jua7b1yt2p652n9/mdl_kons-dekl.txt?dl=0"
      ]
    },
    {
      "cell_type": "code",
      "metadata": {
        "colab": {
          "base_uri": "https://localhost:8080/"
        },
        "id": "vMIlS_Vq1tlf",
        "outputId": "1c2b8d0c-f6e4-4d4f-ab03-12b428bd3849"
      },
      "source": [
        "!curl -O -L https://www.dropbox.com/s/jua7b1yt2p652n9/mdl_kons-dekl.txt"
      ],
      "execution_count": 41,
      "outputs": [
        {
          "output_type": "stream",
          "text": [
            "  % Total    % Received % Xferd  Average Speed   Time    Time     Time  Current\n",
            "                                 Dload  Upload   Total   Spent    Left  Speed\n",
            "  0     0    0     0    0     0      0      0 --:--:-- --:--:-- --:--:--     0\n",
            "  0     0    0     0    0     0      0      0 --:--:-- --:--:-- --:--:--     0\n",
            "100   443  100   443    0     0    453      0 --:--:-- --:--:-- --:--:--   453\n"
          ],
          "name": "stdout"
        }
      ]
    },
    {
      "cell_type": "code",
      "metadata": {
        "id": "fRuianP63Bzn"
      },
      "source": [
        "with open(\"mdl_kons-dekl.txt\") as fo:\n",
        "    text = fo.read()"
      ],
      "execution_count": 42,
      "outputs": []
    },
    {
      "cell_type": "code",
      "metadata": {
        "id": "b46wnU3M3f9r"
      },
      "source": [
        "def konsDekl(vocabulum1, vocabulum2):\n",
        "  text2 = text.replace(\"voc_1\", vocabulum1)\n",
        "  text3 = text2.replace(\"voc_2\", vocabulum2)\n",
        "  file = open(\"mdl_\" + vocabulum1 + \".txt\", \"w\")\n",
        "  file.write(text3)\n",
        "  file.close()\n",
        "  print(\"Fertig \" + vocabulum1 + \"!\")"
      ],
      "execution_count": 57,
      "outputs": []
    },
    {
      "cell_type": "code",
      "metadata": {
        "colab": {
          "base_uri": "https://localhost:8080/"
        },
        "id": "WMtpzTkG45Is",
        "outputId": "a20e1a1e-90ec-4710-ff9c-f08cd02aaceb"
      },
      "source": [
        "konsDekl(\"virtus\",\"virtut\")\n",
        "konsDekl(\"multitudo\",\"multitudin\")\n",
        "konsDekl(\"servitus\",\"servitut\")\n",
        "konsDekl(\"senator\",\"senator\")\n",
        "konsDekl(\"leo\",\"leon\")\n"
      ],
      "execution_count": 59,
      "outputs": [
        {
          "output_type": "stream",
          "text": [
            "Fertig virtus!\n",
            "Fertig multitudo!\n",
            "Fertig servitus!\n",
            "Fertig senator!\n",
            "Fertig leo!\n"
          ],
          "name": "stdout"
        }
      ]
    }
  ]
}