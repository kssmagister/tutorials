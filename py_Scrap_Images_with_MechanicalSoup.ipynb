{
  "nbformat": 4,
  "nbformat_minor": 0,
  "metadata": {
    "colab": {
      "name": "Scrap_Images_with_MechanicalSoup.ipynb",
      "provenance": [],
      "collapsed_sections": [],
      "toc_visible": true,
      "authorship_tag": "ABX9TyMOFrvC/cEK9K9Prpy0qBST",
      "include_colab_link": true
    },
    "kernelspec": {
      "name": "python3",
      "display_name": "Python 3"
    }
  },
  "cells": [
    {
      "cell_type": "markdown",
      "metadata": {
        "id": "view-in-github",
        "colab_type": "text"
      },
      "source": [
        "<a href=\"https://colab.research.google.com/github/kssmagister/tutorials/blob/master/Scrap_Images_with_MechanicalSoup.ipynb\" target=\"_parent\"><img src=\"https://colab.research.google.com/assets/colab-badge.svg\" alt=\"Open In Colab\"/></a>"
      ]
    },
    {
      "cell_type": "markdown",
      "metadata": {
        "id": "Za6FAYs8ck03"
      },
      "source": [
        "# Was kann man mit diesem notebook tun?\n",
        "\n",
        "\n",
        "1.   Wir suchen in google.image nach \"Latein\".\n",
        "2.   Die gefundene Linkliste wird aufbereitet.\n",
        "3. Die Bilder werden heruntergeladen und in einem Ordner gespeichert.\n",
        "\n",
        "\n",
        "\n",
        "\n",
        "\n",
        "\n",
        "\n",
        "\n",
        "\n"
      ]
    },
    {
      "cell_type": "markdown",
      "metadata": {
        "id": "Fl9hSlzhXkjs"
      },
      "source": [
        "## Navigate to Google Images"
      ]
    },
    {
      "cell_type": "code",
      "metadata": {
        "colab": {
          "base_uri": "https://localhost:8080/"
        },
        "id": "ugpvYC1AYuDV",
        "outputId": "4b1d51a4-4dab-4d35-e8e6-b932932fe3db"
      },
      "source": [
        "!pip install MechanicalSoup"
      ],
      "execution_count": 2,
      "outputs": [
        {
          "output_type": "stream",
          "text": [
            "Collecting MechanicalSoup\n",
            "  Downloading https://files.pythonhosted.org/packages/71/fb/02e6ff9c4c9f88ca42876dcb31ba3d879746f410ddf17a4babfe351f5e46/MechanicalSoup-1.0.0-py2.py3-none-any.whl\n",
            "Requirement already satisfied: six>=1.4 in /usr/local/lib/python3.6/dist-packages (from MechanicalSoup) (1.15.0)\n",
            "Requirement already satisfied: requests>=2.0 in /usr/local/lib/python3.6/dist-packages (from MechanicalSoup) (2.23.0)\n",
            "Requirement already satisfied: lxml in /usr/local/lib/python3.6/dist-packages (from MechanicalSoup) (4.2.6)\n",
            "Requirement already satisfied: beautifulsoup4>=4.4 in /usr/local/lib/python3.6/dist-packages (from MechanicalSoup) (4.6.3)\n",
            "Requirement already satisfied: chardet<4,>=3.0.2 in /usr/local/lib/python3.6/dist-packages (from requests>=2.0->MechanicalSoup) (3.0.4)\n",
            "Requirement already satisfied: certifi>=2017.4.17 in /usr/local/lib/python3.6/dist-packages (from requests>=2.0->MechanicalSoup) (2020.12.5)\n",
            "Requirement already satisfied: idna<3,>=2.5 in /usr/local/lib/python3.6/dist-packages (from requests>=2.0->MechanicalSoup) (2.10)\n",
            "Requirement already satisfied: urllib3!=1.25.0,!=1.25.1,<1.26,>=1.21.1 in /usr/local/lib/python3.6/dist-packages (from requests>=2.0->MechanicalSoup) (1.24.3)\n",
            "Installing collected packages: MechanicalSoup\n",
            "Successfully installed MechanicalSoup-1.0.0\n"
          ],
          "name": "stdout"
        }
      ]
    },
    {
      "cell_type": "code",
      "metadata": {
        "colab": {
          "base_uri": "https://localhost:8080/"
        },
        "id": "GakTIAtWXj9z",
        "outputId": "076c3a78-207d-416f-d24a-d82b780da931"
      },
      "source": [
        "import mechanicalsoup\n",
        "\n",
        "browser = mechanicalsoup.StatefulBrowser()\n",
        "url = \"https://www.google.com/imghp?hl=en\"\n",
        "\n",
        "browser.open(url)\n",
        "print(browser.get_url())"
      ],
      "execution_count": 3,
      "outputs": [
        {
          "output_type": "stream",
          "text": [
            "https://www.google.com/imghp?hl=en\n"
          ],
          "name": "stdout"
        }
      ]
    },
    {
      "cell_type": "markdown",
      "metadata": {
        "id": "yQViwGV4Y977"
      },
      "source": [
        "## Type a search term and click \"search\""
      ]
    },
    {
      "cell_type": "code",
      "metadata": {
        "colab": {
          "base_uri": "https://localhost:8080/"
        },
        "id": "9_GbtTsaZB84",
        "outputId": "17b032f4-8ce2-4013-828d-2436a1f4fd1a"
      },
      "source": [
        "#get HTML\n",
        "browser.get_current_page()\n",
        "\n",
        "#target the search input\n",
        "browser.select_form()\n",
        "browser.get_current_form().print_summary()\n",
        "\n",
        "#search for a term\n",
        "search_term = 'Latein'\n",
        "browser[\"q\"] = search_term \n",
        "\n",
        "#submit/\"click\" search\n",
        "browser.launch_browser()\n",
        "response = browser.submit_selected()\n",
        "\n",
        "print('new url:', browser.get_url())\n",
        "print('my response:\\n', response.text[:500])"
      ],
      "execution_count": 10,
      "outputs": [
        {
          "output_type": "stream",
          "text": [
            "<input name=\"hl\" type=\"hidden\" value=\"en\"/>\n",
            "<input name=\"gbv\" type=\"hidden\" value=\"1\"/>\n",
            "<input name=\"ie\" type=\"hidden\" value=\"ISO-8859-1\"/>\n",
            "<input name=\"tbm\" type=\"hidden\" value=\"isch\"/>\n",
            "<input name=\"oq\" type=\"hidden\"/>\n",
            "<input name=\"aqs\" type=\"hidden\"/>\n",
            "<input class=\"MhzMZd\" name=\"q\" type=\"text\" value=\"colosseum\"/>\n",
            "<input class=\"xB0fq\" type=\"submit\" value=\"Search\"/>\n",
            "new url: https://www.google.com/search?hl=en&gbv=1&ie=ISO-8859-1&tbm=isch&oq=&aqs=&q=Latein\n",
            "my response:\n",
            " <!DOCTYPE html PUBLIC \"-//WAPFORUM//DTD XHTML Mobile 1.0//EN\" \"http://www.wapforum.org/DTD/xhtml-mobile10.dtd\"><html xmlns=\"http://www.w3.org/1999/xhtml\" lang=\"en\"><head><meta content=\"application/xhtml+xml; charset=UTF-8\" http-equiv=\"Content-Type\"/><meta content=\"no-cache\" name=\"Cache-Control\"/><title>Latein - Google Search</title><style>a{text-decoration:none;color:inherit}a:hover{text-decoration:underline}a img{border:0}body{font-family:Roboto,Helvetica,Arial,sans-serif;padding:8px;margin:0 a\n"
          ],
          "name": "stdout"
        }
      ]
    },
    {
      "cell_type": "markdown",
      "metadata": {
        "id": "GmuJeXxBZSdD"
      },
      "source": [
        "## Navigate to the new page and target all the images"
      ]
    },
    {
      "cell_type": "code",
      "metadata": {
        "colab": {
          "base_uri": "https://localhost:8080/"
        },
        "id": "m2liDXcOZVI9",
        "outputId": "864564d4-c7be-41e5-f14d-78f326f27097"
      },
      "source": [
        "#open new URL\n",
        "new_url = browser.get_url()\n",
        "browser.open(new_url)\n",
        "\n",
        "#get HTML\n",
        "page = browser.get_current_page()\n",
        "all_images = page.find_all('img')\n",
        "\n",
        "#target the source attribute\n",
        "image_source = []\n",
        "for image in all_images:\n",
        "    image = image.get('src')\n",
        "    image_source.append(image)\n",
        "    \n",
        "image_source[5:]"
      ],
      "execution_count": 11,
      "outputs": [
        {
          "output_type": "execute_result",
          "data": {
            "text/plain": [
              "['https://encrypted-tbn0.gstatic.com/images?q=tbn:ANd9GcRaqxzzxNGrVH5-Vxh_QuPfmv5Z7A3zv7yqjdi6rt25yJtcb4VBCzDbYRODfAA&s',\n",
              " 'https://encrypted-tbn0.gstatic.com/images?q=tbn:ANd9GcQlkyvGoabkBDnUH7lp2bwHT0qZw-X0Ze4KoRDLZkjD4hcdv8gy5doJmJidtA&s',\n",
              " 'https://encrypted-tbn0.gstatic.com/images?q=tbn:ANd9GcS-RU4c2lZXkUoqcET0iOOPrr6aNQMsqCfOPMnycjNCJH5QHAkRrXptog4Rxw&s',\n",
              " 'https://encrypted-tbn0.gstatic.com/images?q=tbn:ANd9GcTCBrTzrIopITloiPm5E9KP7uytEOg83L8HdSzfvdJbhSgyqLeccKGi4RSzULc&s',\n",
              " 'https://encrypted-tbn0.gstatic.com/images?q=tbn:ANd9GcSPhPQ1Ktpbq4VjwO8vbtVXPopy2ayke8uU23YpByeNcSex_pKKB-XxxDZDfWg&s',\n",
              " 'https://encrypted-tbn0.gstatic.com/images?q=tbn:ANd9GcR_Ef5XJwDgGiP_d3ZLhkyZ3jZuOFkvtH7k1imXWNRVPnEJHMi2oXExe--95g&s',\n",
              " 'https://encrypted-tbn0.gstatic.com/images?q=tbn:ANd9GcS26VryXAJFXG4GYLJJ3t7NnH1FrR4cRkEz7U3gol6QTptm6hk1rVC_QyeTtw&s',\n",
              " 'https://encrypted-tbn0.gstatic.com/images?q=tbn:ANd9GcSLH18RMmQzTm65Te8J_vuzI7Y5tIR8AZEFfKwB2_F09fTj_IbVsOH3qEN8jw&s',\n",
              " 'https://encrypted-tbn0.gstatic.com/images?q=tbn:ANd9GcS2PnzVEMbCxNNUYvs3-DAO53rvc5zuh5aFK3hiHBnFKq-pYivPd1K69Fi6-Q&s',\n",
              " 'https://encrypted-tbn0.gstatic.com/images?q=tbn:ANd9GcQGAli1nOn4WA1zm8gN4WOjAP1XojsqOuhYxQO8rAB7ZWEw2Zf0R13srzkaIEA&s',\n",
              " 'https://encrypted-tbn0.gstatic.com/images?q=tbn:ANd9GcQjcArOwSa1B6bH-bl28INJ3VHYS-drtpP_iJxP9hCeOasNFGLjWQwHozrL2g&s',\n",
              " 'https://encrypted-tbn0.gstatic.com/images?q=tbn:ANd9GcQJaLDtZ6ZWTtaHWKCFnocLEAwA1o3rQc85ya2mWgQToNH1bXL8-pcw0nDp11k&s',\n",
              " 'https://encrypted-tbn0.gstatic.com/images?q=tbn:ANd9GcT9mVOdGrifVYYkrGUR5EZfvou0KNwgIJzwjyi0kiy5fEz9325z92Zc8L0Prg&s',\n",
              " 'https://encrypted-tbn0.gstatic.com/images?q=tbn:ANd9GcS_khXp8WfVYwz2auBh52678QD6VndesgoaACzpkNw141gy7NNqaUR4UnWA1SU&s',\n",
              " 'https://encrypted-tbn0.gstatic.com/images?q=tbn:ANd9GcTZz2GdP0yLhMfa3gxo8xPXWM3U8QNMOBpX405GMJPqnYvrL7QC4OjWCHFAQw&s',\n",
              " 'https://encrypted-tbn0.gstatic.com/images?q=tbn:ANd9GcTdHaTb9jy7uZ306sgKDRNbTLMc156A-TG3FQaWPQNlYME53d358Zf0Cgqy_JM&s']"
            ]
          },
          "metadata": {
            "tags": []
          },
          "execution_count": 11
        }
      ]
    },
    {
      "cell_type": "markdown",
      "metadata": {
        "id": "GYczkXdfZhYo"
      },
      "source": [
        "## Fix broken/incomplete image links"
      ]
    },
    {
      "cell_type": "code",
      "metadata": {
        "colab": {
          "base_uri": "https://localhost:8080/"
        },
        "id": "blb7cB07Zi9e",
        "outputId": "a0e32188-7f83-4513-c4f9-dbfceea19dff"
      },
      "source": [
        "image_source = [image for image in image_source if image.startswith('https')]\n",
        "image_source[5:]"
      ],
      "execution_count": 12,
      "outputs": [
        {
          "output_type": "execute_result",
          "data": {
            "text/plain": [
              "['https://encrypted-tbn0.gstatic.com/images?q=tbn:ANd9GcQlkyvGoabkBDnUH7lp2bwHT0qZw-X0Ze4KoRDLZkjD4hcdv8gy5doJmJidtA&s',\n",
              " 'https://encrypted-tbn0.gstatic.com/images?q=tbn:ANd9GcS-RU4c2lZXkUoqcET0iOOPrr6aNQMsqCfOPMnycjNCJH5QHAkRrXptog4Rxw&s',\n",
              " 'https://encrypted-tbn0.gstatic.com/images?q=tbn:ANd9GcTCBrTzrIopITloiPm5E9KP7uytEOg83L8HdSzfvdJbhSgyqLeccKGi4RSzULc&s',\n",
              " 'https://encrypted-tbn0.gstatic.com/images?q=tbn:ANd9GcSPhPQ1Ktpbq4VjwO8vbtVXPopy2ayke8uU23YpByeNcSex_pKKB-XxxDZDfWg&s',\n",
              " 'https://encrypted-tbn0.gstatic.com/images?q=tbn:ANd9GcR_Ef5XJwDgGiP_d3ZLhkyZ3jZuOFkvtH7k1imXWNRVPnEJHMi2oXExe--95g&s',\n",
              " 'https://encrypted-tbn0.gstatic.com/images?q=tbn:ANd9GcS26VryXAJFXG4GYLJJ3t7NnH1FrR4cRkEz7U3gol6QTptm6hk1rVC_QyeTtw&s',\n",
              " 'https://encrypted-tbn0.gstatic.com/images?q=tbn:ANd9GcSLH18RMmQzTm65Te8J_vuzI7Y5tIR8AZEFfKwB2_F09fTj_IbVsOH3qEN8jw&s',\n",
              " 'https://encrypted-tbn0.gstatic.com/images?q=tbn:ANd9GcS2PnzVEMbCxNNUYvs3-DAO53rvc5zuh5aFK3hiHBnFKq-pYivPd1K69Fi6-Q&s',\n",
              " 'https://encrypted-tbn0.gstatic.com/images?q=tbn:ANd9GcQGAli1nOn4WA1zm8gN4WOjAP1XojsqOuhYxQO8rAB7ZWEw2Zf0R13srzkaIEA&s',\n",
              " 'https://encrypted-tbn0.gstatic.com/images?q=tbn:ANd9GcQjcArOwSa1B6bH-bl28INJ3VHYS-drtpP_iJxP9hCeOasNFGLjWQwHozrL2g&s',\n",
              " 'https://encrypted-tbn0.gstatic.com/images?q=tbn:ANd9GcQJaLDtZ6ZWTtaHWKCFnocLEAwA1o3rQc85ya2mWgQToNH1bXL8-pcw0nDp11k&s',\n",
              " 'https://encrypted-tbn0.gstatic.com/images?q=tbn:ANd9GcT9mVOdGrifVYYkrGUR5EZfvou0KNwgIJzwjyi0kiy5fEz9325z92Zc8L0Prg&s',\n",
              " 'https://encrypted-tbn0.gstatic.com/images?q=tbn:ANd9GcS_khXp8WfVYwz2auBh52678QD6VndesgoaACzpkNw141gy7NNqaUR4UnWA1SU&s',\n",
              " 'https://encrypted-tbn0.gstatic.com/images?q=tbn:ANd9GcTZz2GdP0yLhMfa3gxo8xPXWM3U8QNMOBpX405GMJPqnYvrL7QC4OjWCHFAQw&s',\n",
              " 'https://encrypted-tbn0.gstatic.com/images?q=tbn:ANd9GcTdHaTb9jy7uZ306sgKDRNbTLMc156A-TG3FQaWPQNlYME53d358Zf0Cgqy_JM&s']"
            ]
          },
          "metadata": {
            "tags": []
          },
          "execution_count": 12
        }
      ]
    },
    {
      "cell_type": "markdown",
      "metadata": {
        "id": "XJxGCp8wZxXx"
      },
      "source": [
        "## Create a new local directory on our computer"
      ]
    },
    {
      "cell_type": "code",
      "metadata": {
        "colab": {
          "base_uri": "https://localhost:8080/",
          "height": 52
        },
        "id": "4WbbmQPiZzJL",
        "outputId": "bb6bbb69-e27e-4d5e-bc4b-ba2d7c625dd2"
      },
      "source": [
        "!pip install wget\n",
        "\n",
        "import os\n",
        "# wget ist auf meinem Compi nicht installiert!\n",
        "import wget\n",
        "\n",
        "path = os.getcwd()\n",
        "path = os.path.join(path, search_term + \"s\")\n",
        "\n",
        "#create the directory\n",
        "os.mkdir(path)\n",
        "\n",
        "path"
      ],
      "execution_count": 13,
      "outputs": [
        {
          "output_type": "stream",
          "text": [
            "Requirement already satisfied: wget in /usr/local/lib/python3.6/dist-packages (3.2)\n"
          ],
          "name": "stdout"
        },
        {
          "output_type": "execute_result",
          "data": {
            "application/vnd.google.colaboratory.intrinsic+json": {
              "type": "string"
            },
            "text/plain": [
              "'/content/Lateins'"
            ]
          },
          "metadata": {
            "tags": []
          },
          "execution_count": 13
        }
      ]
    },
    {
      "cell_type": "markdown",
      "metadata": {
        "id": "Da11qNshbGFL"
      },
      "source": [
        "## Download and save all the images"
      ]
    },
    {
      "cell_type": "code",
      "metadata": {
        "id": "2RfNgQmzbJDl"
      },
      "source": [
        "counter = 0\n",
        "for image in image_source:\n",
        "    save_as = os.path.join(path, search_term + str(counter) + '.jpg')\n",
        "    wget.download(image, save_as)\n",
        "    counter += 1"
      ],
      "execution_count": 14,
      "outputs": []
    },
    {
      "cell_type": "code",
      "metadata": {
        "id": "ESGTukGXc_EA"
      },
      "source": [
        ""
      ],
      "execution_count": null,
      "outputs": []
    }
  ]
}
